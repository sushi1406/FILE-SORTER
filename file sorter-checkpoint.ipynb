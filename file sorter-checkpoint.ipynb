{
 "cells": [
  {
   "cell_type": "markdown",
   "id": "46be2d2d-8d15-4683-8f91-4a7aa0dce18c",
   "metadata": {},
   "source": [
    "# FILE SORTER"
   ]
  },
  {
   "cell_type": "code",
   "execution_count": 6,
   "id": "76666214-d52c-4874-af76-1f7e99b470ec",
   "metadata": {},
   "outputs": [],
   "source": [
    "import os\n",
    "import shutil"
   ]
  },
  {
   "cell_type": "code",
   "execution_count": 114,
   "id": "853a4796-0de5-4fb9-941b-fd268571f38e",
   "metadata": {},
   "outputs": [],
   "source": [
    "path=r\"C:/Users/91901/Desktop/cureable/\""
   ]
  },
  {
   "cell_type": "code",
   "execution_count": 116,
   "id": "4a5a75bf-3a5e-4291-a306-57d5576f9b90",
   "metadata": {},
   "outputs": [],
   "source": [
    " files_names= os.listdir(path)"
   ]
  },
  {
   "cell_type": "code",
   "execution_count": 118,
   "id": "08f4d257-61ec-4f48-99ec-d856d9e4ab13",
   "metadata": {},
   "outputs": [],
   "source": [
    "folder=['csv files','image files','text files']\n",
    "for loop in range(0,3):\n",
    "    if not os.path.exists(path+ folder[loop]):\n",
    "        os.makedirs(path+ folder[loop]) "
   ]
  },
  {
   "cell_type": "code",
   "execution_count": 128,
   "id": "0fb1dea9-3a7d-429c-8192-7a142758f36b",
   "metadata": {},
   "outputs": [],
   "source": [
    "for file in files_names:\n",
    "    if \".csv\" in file and not os.path.exists(path+ 'csv files/' +file):\n",
    "        shutil.move(path+ file, path+ 'csv files/' +file)\n",
    "    elif \".png\" in file and not os.path.exists(path+ 'image files/' +file):\n",
    "        shutil.move(path+ file, path+ 'image files/' +file)\n",
    "    elif \".txt\" in file and not os.path.exists(path+ 'text files/' +file):\n",
    "        shutil.move(path+ file, path+ 'text files/' +file)"
   ]
  },
  {
   "cell_type": "code",
   "execution_count": null,
   "id": "c8949340-7459-46b0-8608-a902c62ec1e7",
   "metadata": {},
   "outputs": [],
   "source": []
  },
  {
   "cell_type": "code",
   "execution_count": null,
   "id": "9ba9b6eb-eb28-4966-ac2e-7aa6dc975388",
   "metadata": {},
   "outputs": [],
   "source": []
  }
 ],
 "metadata": {
  "kernelspec": {
   "display_name": "Python 3 (ipykernel)",
   "language": "python",
   "name": "python3"
  },
  "language_info": {
   "codemirror_mode": {
    "name": "ipython",
    "version": 3
   },
   "file_extension": ".py",
   "mimetype": "text/x-python",
   "name": "python",
   "nbconvert_exporter": "python",
   "pygments_lexer": "ipython3",
   "version": "3.12.4"
  }
 },
 "nbformat": 4,
 "nbformat_minor": 5
}
